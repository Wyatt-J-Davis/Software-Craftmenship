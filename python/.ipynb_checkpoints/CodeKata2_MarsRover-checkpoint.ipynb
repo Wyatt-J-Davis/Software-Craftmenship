{
 "cells": [
  {
   "cell_type": "markdown",
   "id": "54e83ceb",
   "metadata": {},
   "source": [
    "# Ideas:\n",
    "\n",
    "## How Do I map x,y to N,E,S,W? \n",
    "We start at 0:0:N, so  \n"
   ]
  },
  {
   "cell_type": "code",
   "execution_count": 8,
   "id": "9f500344",
   "metadata": {},
   "outputs": [
    {
     "ename": "SyntaxError",
     "evalue": "invalid syntax (Temp/ipykernel_7776/1388102973.py, line 13)",
     "output_type": "error",
     "traceback": [
      "\u001b[1;36m  File \u001b[1;32m\"C:\\Users\\whyit\\AppData\\Local\\Temp/ipykernel_7776/1388102973.py\"\u001b[1;36m, line \u001b[1;32m13\u001b[0m\n\u001b[1;33m    match compass[_compassMapping % len(compass)]:\u001b[0m\n\u001b[1;37m          ^\u001b[0m\n\u001b[1;31mSyntaxError\u001b[0m\u001b[1;31m:\u001b[0m invalid syntax\n"
     ]
    }
   ],
   "source": [
    "compass = ['N', 'E', 'S', 'W']\n",
    "locationX = [0, 1, 2, 3, 4, 5, 6, 7, 8, 9]\n",
    "locationY = [0, 1, 2, 3, 4, 5, 6, 7, 8, 9]\n",
    "\n",
    "class MarsRover(object):\n",
    "    def __init__():\n",
    "        self._compassMapping = 0\n",
    "        self._locationXMapping = 0\n",
    "        self._locationYMapping = 0\n",
    "        \n",
    "    def __Move():\n",
    "        #switch(compass[_compassMapping % len(compass)]):\n",
    "        match compass[_compassMapping % len(compass)]:\n",
    "            case 'N':\n",
    "                _locationYMapping+=1\n",
    "            case 'E':\n",
    "                _locationXMapping+=1\n",
    "            case 'S':\n",
    "                _locationYMapping-=1\n",
    "            case 'W':\n",
    "                _locationXMapping-=1\n",
    "        \n",
    "    def Command(command):\n",
    "        for subcommand in command:\n",
    "            switch(subcommand):\n",
    "                case \"M\":\n",
    "                    self.__Move()\n",
    "                case \"L\":\n",
    "                    _compassMapping -= 1\n",
    "                case \"R\":\n",
    "                    _compassMapping += 1 \n",
    "    \n",
    "    def getPositionandDirection():\n",
    "        X = locationX[self._locationXMapping % len(locationX)]\n",
    "        Y = locationY[self._locationYMapping % len(locationY)]\n",
    "        Direction = compass[self._compassMapping % len(compass)]\n",
    "        \n",
    "        return f\"{X}:{Y}:{Direction}\"\n",
    "                    \n",
    "    "
   ]
  },
  {
   "cell_type": "code",
   "execution_count": 17,
   "id": "198b6427",
   "metadata": {},
   "outputs": [
    {
     "data": {
      "text/plain": [
       "0"
      ]
     },
     "execution_count": 17,
     "metadata": {},
     "output_type": "execute_result"
    }
   ],
   "source": [
    "10%10   # Use mod operation to do wrap-around for locations"
   ]
  },
  {
   "cell_type": "code",
   "execution_count": 19,
   "id": "7596f5bd",
   "metadata": {},
   "outputs": [
    {
     "data": {
      "text/plain": [
       "9"
      ]
     },
     "execution_count": 19,
     "metadata": {},
     "output_type": "execute_result"
    }
   ],
   "source": [
    "-1 % 10 "
   ]
  },
  {
   "cell_type": "code",
   "execution_count": 15,
   "id": "0133dc0e",
   "metadata": {},
   "outputs": [
    {
     "data": {
      "text/plain": [
       "7"
      ]
     },
     "execution_count": 15,
     "metadata": {},
     "output_type": "execute_result"
    }
   ],
   "source": [
    "-2 % 9 + 1 "
   ]
  },
  {
   "cell_type": "code",
   "execution_count": 1,
   "id": "748930d5",
   "metadata": {},
   "outputs": [
    {
     "data": {
      "text/plain": [
       "3"
      ]
     },
     "execution_count": 1,
     "metadata": {},
     "output_type": "execute_result"
    }
   ],
   "source": [
    "3%10"
   ]
  },
  {
   "cell_type": "code",
   "execution_count": 4,
   "id": "0cbd2bf6",
   "metadata": {},
   "outputs": [],
   "source": [
    "compass = ['N', 'E', 'S', 'W']\n",
    "locationX = [0, 1, 2, 3, 4, 5, 6, 7, 8, 9]\n",
    "locationY = [0, 1, 2, 3, 4, 5, 6, 7, 8, 9]"
   ]
  },
  {
   "cell_type": "code",
   "execution_count": 5,
   "id": "2a051a9b",
   "metadata": {},
   "outputs": [
    {
     "name": "stdout",
     "output_type": "stream",
     "text": [
      "4\n"
     ]
    }
   ],
   "source": [
    "print(len(compass))"
   ]
  },
  {
   "cell_type": "code",
   "execution_count": 12,
   "id": "89337117",
   "metadata": {},
   "outputs": [
    {
     "ename": "SyntaxError",
     "evalue": "invalid syntax (Temp/ipykernel_7776/3290324982.py, line 3)",
     "output_type": "error",
     "traceback": [
      "\u001b[1;36m  File \u001b[1;32m\"C:\\Users\\whyit\\AppData\\Local\\Temp/ipykernel_7776/3290324982.py\"\u001b[1;36m, line \u001b[1;32m3\u001b[0m\n\u001b[1;33m    match x:\u001b[0m\n\u001b[1;37m          ^\u001b[0m\n\u001b[1;31mSyntaxError\u001b[0m\u001b[1;31m:\u001b[0m invalid syntax\n"
     ]
    }
   ],
   "source": [
    "x = \"5\"\n",
    "\n",
    "match x:\n",
    "    case \"5\":\n",
    "        print(\"It works\")\n",
    "    case \"2\":\n",
    "        print(\"It definitely works\")\n",
    "    case _:\n",
    "        print(\"Yup...\")"
   ]
  },
  {
   "cell_type": "code",
   "execution_count": 11,
   "id": "4cdb8b98",
   "metadata": {},
   "outputs": [
    {
     "name": "stdout",
     "output_type": "stream",
     "text": [
      "3.9.7 (default, Sep 16 2021, 16:59:28) [MSC v.1916 64 bit (AMD64)]\n"
     ]
    }
   ],
   "source": [
    "import sys;print(sys.version)"
   ]
  },
  {
   "cell_type": "code",
   "execution_count": null,
   "id": "2be01a25",
   "metadata": {},
   "outputs": [],
   "source": []
  }
 ],
 "metadata": {
  "kernelspec": {
   "display_name": "Python 3 (ipykernel)",
   "language": "python",
   "name": "python3"
  },
  "language_info": {
   "codemirror_mode": {
    "name": "ipython",
    "version": 3
   },
   "file_extension": ".py",
   "mimetype": "text/x-python",
   "name": "python",
   "nbconvert_exporter": "python",
   "pygments_lexer": "ipython3",
   "version": "3.9.7"
  }
 },
 "nbformat": 4,
 "nbformat_minor": 5
}
